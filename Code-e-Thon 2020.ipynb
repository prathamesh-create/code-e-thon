{
 "cells": [
  {
   "cell_type": "code",
   "execution_count": null,
   "metadata": {},
   "outputs": [],
   "source": [
    "class Aptitude:\n",
    "    Que=[1,2,3,4,5,6,7,8,9,10,11,12,13,14,15,16,17,18,19,20,21,22,23,24,25,26,27,28,29,30,31,32,33,34,35,36,3,38,39,40]\n",
    "    lst1=[] #student choices\n",
    "    for i in range(0,len(Que)):\n",
    "        choice=input() #chpice will be taken as option A,B,C,D\n",
    "        lst1.append(choice)\n",
    "    print(lst1)\n",
    "    Answers=['a','b','c','d','a','b','c','d','a','b','c','d','a','b','c','d','a','b','c','d','a','b','c','d','a','b','c','d','a','b','c','d','a','b','c','d','a','b','c','d']\n",
    "    difference = []\n",
    "    for item in Answers:\n",
    "        if item not in lst1:\n",
    "            difference.append(item)\n",
    "    if len(difference)==0:\n",
    "        print(\"You are Genius\")\n",
    "    elif len(difference)==5:\n",
    "        print(\"You are Intelligent\")\n",
    "    elif len(difference)==18:\n",
    "        print(\"Your IQ Level is Average\")\n",
    "    elif len(difference)==30:\n",
    "        print(\"Your IQ Level is Below Average\")\n",
    "    else:\n",
    "        print(\"You Need To Re Appear For test\")"
   ]
  },
  {
   "cell_type": "code",
   "execution_count": null,
   "metadata": {},
   "outputs": [],
   "source": [
    "class English:\n",
    "   Que=[1,2,3,4,5,6,7,8,9,10,11,12,13,14,15,16,17,18,19,20,21,22,23,24,25,26,27,28,29,30,31,32,33,34,35,36,3,38,39,40]\n",
    "    lst1=[] #student choices\n",
    "    for i in range(0,len(Que)):\n",
    "        choice=input() #chpice will be taken as option A,B,C,D\n",
    "        lst1.append(choice)\n",
    "    print(lst1)\n",
    "    Answers=['a','b','c','d','a','b','c','d','a','b','c','d','a','b','c','d','a','b','c','d','a','b','c','d','a','b','c','d','a','b','c','d','a','b','c','d','a','b','c','d']\n",
    "    difference = []\n",
    "    for item in Answers:\n",
    "        if item not in lst1:\n",
    "            difference.append(item)\n",
    "    if len(difference)==0:\n",
    "        print(\"You are Genius\")\n",
    "    elif len(difference)==5:\n",
    "        print(\"You are Intelligent\")\n",
    "    elif len(difference)==18:\n",
    "        print(\"Your IQ Level is Average\")\n",
    "    elif len(difference)==30:\n",
    "        print(\"Your IQ Level is Below Average\")\n",
    "    else:\n",
    "        print(\"You Need To Re Appear For test\")"
   ]
  },
  {
   "cell_type": "code",
   "execution_count": null,
   "metadata": {},
   "outputs": [],
   "source": [
    "c"
   ]
  },
  {
   "cell_type": "code",
   "execution_count": 4,
   "metadata": {},
   "outputs": [
    {
     "ename": "IndentationError",
     "evalue": "unexpected indent (<ipython-input-4-6df283b1c2b8>, line 3)",
     "output_type": "error",
     "traceback": [
      "\u001b[1;36m  File \u001b[1;32m\"<ipython-input-4-6df283b1c2b8>\"\u001b[1;36m, line \u001b[1;32m3\u001b[0m\n\u001b[1;33m    lst1=[] #student choices\u001b[0m\n\u001b[1;37m    ^\u001b[0m\n\u001b[1;31mIndentationError\u001b[0m\u001b[1;31m:\u001b[0m unexpected indent\n"
     ]
    }
   ],
   "source": [
    "class Mathematics:\n",
    "    Que=[1,2,3,4,5,6,7,8,9,10,11,12,13,14,15,16,17,18,19,20,21,22,23,24,25,26,27,28,29,30,31,32,33,34,35,36,3,38,39,40]\n",
    "    lst1=[] #student choices\n",
    "    for i in range(0,len(Que)):\n",
    "        choice=input() #chpice will be taken as option A,B,C,D\n",
    "        lst1.append(choice)\n",
    "    print(lst1)\n",
    "    Answers=['a','b','c','d','a','b','c','d','a','b','c','d','a','b','c','d','a','b','c','d','a','b','c','d','a','b','c','d','a','b','c','d','a','b','c','d','a','b','c','d']\n",
    "    difference = []\n",
    "    for item in Answers:\n",
    "        if item not in lst1:\n",
    "            difference.append(item)\n",
    "    if len(difference)==0:\n",
    "        print(\"You are Genius\")\n",
    "    elif len(difference)==5:\n",
    "        print(\"You are Intelligent\")\n",
    "    elif len(difference)==18:\n",
    "        print(\"Your IQ Level is Average\")\n",
    "    elif len(difference)==30:\n",
    "        print(\"Your IQ Level is Below Average\")\n",
    "    else:\n",
    "        print(\"You Need To Re Appear For test\")"
   ]
  },
  {
   "cell_type": "code",
   "execution_count": null,
   "metadata": {},
   "outputs": [],
   "source": [
    "class GK:\n",
    "   Que=[1,2,3,4,5,6,7,8,9,10,11,12,13,14,15,16,17,18,19,20,21,22,23,24,25,26,27,28,29,30,31,32,33,34,35,36,3,38,39,40]\n",
    "    lst1=[] #student choices\n",
    "    for i in range(0,len(Que)):\n",
    "        choice=input() #chpice will be taken as option A,B,C,D\n",
    "        lst1.append(choice)\n",
    "    print(lst1)\n",
    "    Answers=['a','b','c','d','a','b','c','d','a','b','c','d','a','b','c','d','a','b','c','d','a','b','c','d','a','b','c','d','a','b','c','d','a','b','c','d','a','b','c','d']\n",
    "    difference = []\n",
    "    for item in Answers:\n",
    "        if item not in lst1:\n",
    "            difference.append(item)\n",
    "    if len(difference)==0:\n",
    "        print(\"You are Genius\")\n",
    "    elif len(difference)==5:\n",
    "        print(\"You are Intelligent\")\n",
    "    elif len(difference)==18:\n",
    "        print(\"Your IQ Level is Average\")\n",
    "    elif len(difference)==30:\n",
    "        print(\"Your IQ Level is Below Average\")\n",
    "    else:\n",
    "        print(\"You Need To Re Appear For test\")"
   ]
  },
  {
   "cell_type": "code",
   "execution_count": null,
   "metadata": {},
   "outputs": [],
   "source": [
    "student_details = {} # Creating an empty list\n",
    "attempt=int(input(\"Enter the Number OF Attempts:\"))\n",
    "if attempt==1:\n",
    "    while True:\n",
    "        # Creating an infinite loop\n",
    "        print(\"\"\"\n",
    "        Welcome For the test:\n",
    "\n",
    "        You Will get Only One chance for each test:\n",
    "\n",
    "        Please select an option of the test You want to Give from below menu:\n",
    "        1. Aptitute\n",
    "        2. English\n",
    "        3. Mathematics\n",
    "        4. GK \n",
    "        5. Exit\"\"\")\n",
    "        choice = int(input(\"Please enter your choice: \"))\n",
    "\n",
    "        if choice == 1:\n",
    "            print(\"\"\"\n",
    "                Welcome BE Ready Atitute Exam About to Start:\"\"\")\n",
    "            A.Aptitute()\n",
    "            A\n",
    "        elif choice == 2:\n",
    "            print(\"\"\"\n",
    "                Welcome BE Ready English Exam About to Start:\"\"\")\n",
    "            B.English()\n",
    "            B\n",
    "        elif choice == 3:\n",
    "            print(\"\"\"\n",
    "                Welcome BE Ready Mathematics Exam About to Start:\"\"\")\n",
    "            C.Mathematics()\n",
    "            C\n",
    "        elif choice == 4:\n",
    "            print(\"\"\"\n",
    "                Welcome BE Ready GK Exam About to Start:\"\"\")\n",
    "            D.GK()\n",
    "            D\n",
    "        elif choice == 5:\n",
    "            print(\"Thank You For Using Our Application\")\n",
    "\n",
    "        else:\n",
    "            print(\"You have entered a wrong choice. Pleaae try again\")\n",
    "else:\n",
    "    print(\"There is Only One Attempt. Thank You Using our application and all the for Future.\")"
   ]
  },
  {
   "cell_type": "code",
   "execution_count": null,
   "metadata": {},
   "outputs": [],
   "source": [
    "class Generate:  #GEnerating Student Details Of the Student\n",
    "    Student_Details = {}\n",
    "    \n",
    "    def __init__(self):\n",
    "        self.studentname = input('Enter your username: ')# Name Of the Student\n",
    "        self.attempt=int(input(\"Enter The Attepmt\")) #Attempt OF the Student\n",
    "        self.marks=marks\n",
    "        self.iqlevel=iqlevel\n",
    "        file = open('C:\\\\Users\\\\ADMIN\\\\Desktop\\\\Studentdetails.txt', 'w')\n",
    "        file.write(self.studentname)\n",
    "        file.write(':')\n",
    "        file.write(self.attempt)\n",
    "        file.write(':')\n",
    "        file.write(self.marks)\n",
    "        file.write(':')\n",
    "        file.write(self.iqlevel)\n",
    "        file.close()\n",
    "m=Generate()"
   ]
  },
  {
   "cell_type": "code",
   "execution_count": null,
   "metadata": {},
   "outputs": [],
   "source": []
  },
  {
   "cell_type": "code",
   "execution_count": null,
   "metadata": {},
   "outputs": [],
   "source": []
  },
  {
   "cell_type": "code",
   "execution_count": null,
   "metadata": {},
   "outputs": [],
   "source": []
  },
  {
   "cell_type": "code",
   "execution_count": null,
   "metadata": {},
   "outputs": [],
   "source": []
  },
  {
   "cell_type": "code",
   "execution_count": null,
   "metadata": {},
   "outputs": [],
   "source": [
    "c\n"
   ]
  }
 ],
 "metadata": {
  "kernelspec": {
   "display_name": "Python 3",
   "language": "python",
   "name": "python3"
  },
  "language_info": {
   "codemirror_mode": {
    "name": "ipython",
    "version": 3
   },
   "file_extension": ".py",
   "mimetype": "text/x-python",
   "name": "python",
   "nbconvert_exporter": "python",
   "pygments_lexer": "ipython3",
   "version": "3.7.6"
  }
 },
 "nbformat": 4,
 "nbformat_minor": 4
}
